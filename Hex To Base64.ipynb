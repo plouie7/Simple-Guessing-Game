{
 "cells": [
  {
   "cell_type": "code",
   "execution_count": 4,
   "metadata": {},
   "outputs": [
    {
     "name": "stdout",
     "output_type": "stream",
     "text": [
      "96\n"
     ]
    },
    {
     "data": {
      "text/plain": [
       "64"
      ]
     },
     "execution_count": 4,
     "metadata": {},
     "output_type": "execute_result"
    }
   ],
   "source": [
    "print(len('49276d206b696c6c696e6720796f757220627261696e206c696b65206120706f69736f6e6f7573206d757368726f6f6d'))\n",
    "len('SSdtIGtpbGxpbmcgeW91ciBicmFpbiBsaWtlIGEgcG9pc29ub3VzIG11c2hyb29t')"
   ]
  },
  {
   "cell_type": "code",
   "execution_count": 150,
   "metadata": {},
   "outputs": [],
   "source": [
    "def dec2bin(input):\n",
    "    binary = \"\"\n",
    "    if input == 0:\n",
    "        return ('0000')\n",
    "    while input !=0:\n",
    "        binary = str(input % 2) + binary\n",
    "        if (input % 2) != 0:\n",
    "            input = int((int(input) / 2) - .5)\n",
    "        else:\n",
    "            input = int((int(input) / 2))\n",
    "    return binary\n",
    "\n",
    "#print(dec2bin(192)) #testing statement"
   ]
  },
  {
   "cell_type": "code",
   "execution_count": 151,
   "metadata": {},
   "outputs": [],
   "source": [
    "def hex2bin(input):\n",
    "    input = str(input).upper()\n",
    "    binary = \"\"\n",
    "    x = {\"0\":\"0000\",\"1\":\"0001\",\"2\":\"0010\", \"3\":\"0011\", \"4\":\"0100\",\"5\":\"0101\",\"6\":\"0110\",\"7\":\"0111\",\"8\":\"1000\",\"9\":\"1001\",\"A\":\"1010\",\"B\":\"1011\",\"C\":\"1100\", \"D\":\"1101\",\"E\":\"1110\",\"F\":\"1111\"}\n",
    "    for i in input:\n",
    "        binary = binary +  x[str(i)]\n",
    "    return binary\n",
    "\n",
    "#print(hex2bin('49276d206b696c6c696e6720796f757220627261696e206c696b65206120706f69736f6e6f7573206d757368726f6f6d')) #testing statement"
   ]
  },
  {
   "cell_type": "code",
   "execution_count": 152,
   "metadata": {},
   "outputs": [],
   "source": [
    "def bintob64(input):\n",
    "    number = \"\"\n",
    "    while input != \"\":\n",
    "        sixdecbin = input[:6]\n",
    "        input = input[6:]\n",
    "        length = len(sixdecbin)\n",
    "        numero = 0\n",
    "        for digit in sixdecbin:\n",
    "            numero = (int(digit) * (2 ** length)) + numero\n",
    "            length -= 1\n",
    "        if len(str(int(numero / 2))) == 1:\n",
    "            numero = \"0\" + str(int(numero / 2))\n",
    "        else:\n",
    "            numero = str(int(numero / 2))\n",
    "        number = number + numero\n",
    "        \n",
    "    return number\n",
    "        \n",
    "            \n",
    "#bintob64('010010010010011101101101001000000110101101101001011011000110110001101001011011100110011100100000011110010110111101110101011100100010000001100010011100100110000101101001011011100010000001101100011010010110101101100101001000000110000100100000011100000110111101101001011100110110111101101110011011110111010101110011001000000110110101110101011100110110100001110010011011110110111101101101')"
   ]
  },
  {
   "cell_type": "code",
   "execution_count": 153,
   "metadata": {},
   "outputs": [],
   "source": [
    "def b64reader(input):\n",
    "    alphabet = \"ABCDEFGHIJKLMNOPQRSTUVWXYZabcdefghijklmnopqrstuvwxyz0123456789+/\"\n",
    "    string = \"\"\n",
    "    input = str(input)\n",
    "    while input != \"\":\n",
    "        seperator = int(input[:2])\n",
    "        input = input[2:]\n",
    "        string = string + alphabet[seperator]\n",
    "    return string\n",
    "\n",
    "#b64reader('18182945080645412706494127382832302261532834013428380541273401442622453708060432280661412854614627552151080653532854335027546145')  #Testing Statement"
   ]
  },
  {
   "cell_type": "code",
   "execution_count": 168,
   "metadata": {},
   "outputs": [
    {
     "data": {
      "text/plain": [
       "'MkEjQyFHYhN0hdy67L6C'"
      ]
     },
     "execution_count": 168,
     "metadata": {},
     "output_type": "execute_result"
    }
   ],
   "source": [
    "def HexToBase64(input):\n",
    "    x = input\n",
    "    return b64reader(bintob64(hex2bin(x)))\n",
    "    \n",
    "HexToBase64('32412343214762137485dcbaecbea')"
   ]
  },
  {
   "cell_type": "code",
   "execution_count": 166,
   "metadata": {},
   "outputs": [],
   "source": [
    "import codecs\n",
    "\n",
    "hex = \"49276d206b696c6c696e6720796f757220627261696e206c696b65206120706f69736f6e6f7573206d757368726f6f6d\"\n",
    "b64 = codecs.encode(codecs.decode(hex, 'hex'), 'base64').decode()\n",
    "\n",
    "#b64"
   ]
  }
 ],
 "metadata": {
  "kernelspec": {
   "display_name": "Python 3",
   "language": "python",
   "name": "python3"
  },
  "language_info": {
   "codemirror_mode": {
    "name": "ipython",
    "version": 3
   },
   "file_extension": ".py",
   "mimetype": "text/x-python",
   "name": "python",
   "nbconvert_exporter": "python",
   "pygments_lexer": "ipython3",
   "version": "3.7.3"
  }
 },
 "nbformat": 4,
 "nbformat_minor": 2
}
