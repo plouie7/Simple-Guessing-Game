{
 "cells": [
  {
   "cell_type": "code",
   "execution_count": null,
   "metadata": {},
   "outputs": [],
   "source": [
    "import pandas as pd\n",
    "from ipywidgets import interact\n",
    "import numpy as np\n",
    "from bokeh.io import push_notebook, show, output_notebook\n",
    "from bokeh.plotting import figure\n",
    "from bokeh.core.properties import value\n",
    "from bokeh.models import ColumnDataSource, NumeralTickFormatter\n",
    "from bokeh.palettes import Spectral11\n",
    "from bokeh.transform import factor_cmap\n",
    "import os\n",
    "import matplotlib.pylab as plb\n",
    "output_notebook()"
   ]
  },
  {
   "cell_type": "code",
   "execution_count": null,
   "metadata": {},
   "outputs": [],
   "source": [
    "crimeindex = pd.read_csv('Index_Crimes_by_County_and_Agency__Beginning_1990.csv')\n",
    "crimeindex.tail()"
   ]
  },
  {
   "cell_type": "code",
   "execution_count": null,
   "metadata": {},
   "outputs": [],
   "source": [
    "nyc = ['New York', 'New York City', 'Kings', 'Queens', 'Bronx', 'Richmond']\n",
    "maskci1 = crimeindex['County'].isin(nyc)"
   ]
  },
  {
   "cell_type": "code",
   "execution_count": null,
   "metadata": {},
   "outputs": [],
   "source": [
    "nyvalues = crimeindex[maskci1].sort_values(by = ['Year'])\n",
    "nyvalues = nyvalues.groupby('Year').sum()\n",
    "nyvalues"
   ]
  },
  {
   "cell_type": "code",
   "execution_count": null,
   "metadata": {},
   "outputs": [],
   "source": [
    "x = nyvalues[['Murder','Rape','Robbery','Aggravated Assault','Burglary','Larceny','Motor Vehicle Theft']]\n",
    "#x"
   ]
  },
  {
   "cell_type": "code",
   "execution_count": null,
   "metadata": {},
   "outputs": [],
   "source": [
    "year = x.index.tolist()\n",
    "year = [str(yearo) for yearo in year]\n",
    "crimes = x.columns.tolist()\n",
    "\n",
    "data = {'crimes': crimes}\n",
    "for yearos in x.index:\n",
    "    g = x.loc[yearos].tolist()\n",
    "    data[str(yearos)] = g\n",
    "\n",
    "framer = pd.DataFrame.from_dict(data)\n",
    "summer = framer['2008'].transpose().sum()\n",
    "g = [x/summer for x in data['2008']]"
   ]
  },
  {
   "cell_type": "code",
   "execution_count": null,
   "metadata": {},
   "outputs": [],
   "source": [
    "source = ColumnDataSource(data=dict(crimes = crimes, counts=g))\n",
    "\n",
    "p = figure(x_range=crimes, plot_height=600, plot_width = 800, toolbar_location=None, title=\"Crime Counts\")\n",
    "p.vbar(x='crimes', top='counts', width=0.9, source=source, legend=\"crimes\",\n",
    "       line_color='white', fill_color=factor_cmap('crimes', palette=Spectral11, factors=crimes))\n",
    "\n",
    "p.yaxis[0].formatter = NumeralTickFormatter(format=\"0.0%\")\n",
    "p.xgrid.grid_line_color = None\n",
    "p.y_range.start = 0\n",
    "p.y_range.end = 1.2\n",
    "p.legend.orientation = \"horizontal\"\n",
    "p.legend.location = \"top_center\"\n",
    "\n",
    "r = p.vbar(x='crimes', top='counts', width=0.9, source=source, legend=\"crimes\",\n",
    "       line_color='white', fill_color=factor_cmap('crimes', palette=Spectral11, factors=crimes))"
   ]
  },
  {
   "cell_type": "code",
   "execution_count": null,
   "metadata": {},
   "outputs": [],
   "source": [
    "row_template = \"{:^20} | {:^40} | {:10}\"\n",
    "def prettyprint(listofcrime, listofpercentages, listoftotalnumbers):\n",
    "    tupple = tuple(zip(listofcrime, listofpercentages, listoftotalnumbers))\n",
    "    print()\n",
    "    print(row_template.format(\"Crime\", \"Percentage Of All Crimes In NYC\", \"Total Number\"))\n",
    "    print(\"*\" * 20)\n",
    "    for crime, percent, numbers in tupple:\n",
    "        print(row_template.format(crime, percent, numbers))\n",
    "\n",
    "def updateyear(year):\n",
    "    numberos = framer[year].tolist()\n",
    "    summer = framer[year].transpose().sum()\n",
    "    crime = framer[\"crimes\"].tolist()\n",
    "    g = [x/summer for x in data[year]]\n",
    "    g2 = [str(round((i * 100), 1)) + \"%\" for i in g]\n",
    "    prettyprint(crime, g2, numberos)\n",
    "    return g\n",
    "\n",
    "def update(Year):\n",
    "    if Year == Year:\n",
    "        r.data_source.data['counts'] = updateyear(Year)\n",
    "        push_notebook()"
   ]
  },
  {
   "cell_type": "code",
   "execution_count": null,
   "metadata": {},
   "outputs": [],
   "source": [
    "show(p, notebook_handle=True)"
   ]
  },
  {
   "cell_type": "code",
   "execution_count": null,
   "metadata": {},
   "outputs": [],
   "source": [
    "interact(update, Year=year)"
   ]
  },
  {
   "cell_type": "code",
   "execution_count": null,
   "metadata": {},
   "outputs": [],
   "source": [
    "from statsmodels.tsa.ar_model import AR\n",
    "dicter = {}\n",
    "checker = {}\n",
    "\n",
    "for column in x.columns:\n",
    "    model = AR(x[column].tolist())\n",
    "    model_fit = model.fit()\n",
    "    yhat = model_fit.predict(len(x), len(x))\n",
    "    dicter[column] = yhat\n",
    "\n",
    "dicter = pd.DataFrame.from_dict(dicter)\n",
    "dicter.set_index([pd.Index([\"2018 Auto Regression Forecast\"])])"
   ]
  },
  {
   "cell_type": "code",
   "execution_count": null,
   "metadata": {},
   "outputs": [],
   "source": [
    "x['Year'] = x.index.tolist()\n",
    "x"
   ]
  },
  {
   "cell_type": "code",
   "execution_count": null,
   "metadata": {},
   "outputs": [],
   "source": [
    "import matplotlib.pyplot as plt\n",
    "from matplotlib.pyplot import figure\n",
    "import matplotlib.style as style\n",
    "\n",
    "police = pd.read_csv('Law_Enforcement_Personnel_by_Agency___Beginning_2007.csv')\n",
    "police['County'].unique()"
   ]
  },
  {
   "cell_type": "code",
   "execution_count": null,
   "metadata": {},
   "outputs": [],
   "source": [
    "maskp1 = police['County'] == \"New York City\"\n",
    "numofficers = police[maskp1][['Grand Total', 'Year']].groupby('Year').sum()\n",
    "%matplotlib inline\n",
    "YearP = numofficers.index.tolist()\n",
    "Officers = numofficers['Grand Total'].tolist()\n",
    "\n",
    "fig= plt.figure(figsize=(10,4))\n",
    "plt.rcParams['font.family'] = 'Times New Roman'\n",
    "plt.plot(YearP, Officers)\n",
    "plt.title('Number Of NYC Police Officers On Staff by Year')\n",
    "plt.xlabel('Year')\n",
    "plt.ylabel(\"Number of Officers\")\n",
    "plt.xticks(np.arange(2007, 2019))\n",
    "plt.show()\n",
    "palette=(\"Blues_d\")"
   ]
  },
  {
   "cell_type": "code",
   "execution_count": null,
   "metadata": {},
   "outputs": [],
   "source": [
    "arrests = pd.read_csv('Adult_Arrests_by_County___Beginning_1970.csv')\n",
    "print(arrests['County'].unique())\n",
    "print(arrests.columns)"
   ]
  },
  {
   "cell_type": "code",
   "execution_count": null,
   "metadata": {},
   "outputs": [],
   "source": [
    "maska1 = arrests['County'].isin(nyc)\n",
    "maska2 = arrests['Year'] >= 1990\n",
    "maska3 = arrests['Year'] <= 2017\n",
    "crimesa = arrests[maska1 & maska2 & maska3].groupby('Year').sum()[['Drug Felony', 'DWI Felony', 'Drug Misd', 'DWI Misd']]\n",
    "crimesa['Drug Related Crimes'] = crimesa['Drug Felony'] + crimesa['Drug Misd']\n",
    "crimesa['DWI Crimes'] = crimesa['DWI Felony'] + crimesa['DWI Misd']\n",
    "crimesa"
   ]
  },
  {
   "cell_type": "code",
   "execution_count": null,
   "metadata": {},
   "outputs": [],
   "source": [
    "wages = pd.read_csv('Quarterly_Census_of_Employment_and_Wages_Annual_Data__Beginning_2000.csv')\n",
    "mask1 = wages['Area'] == 'New York City'\n",
    "mask2 = wages['Area Type'] == 'Metropolitan Statistical Area'\n",
    "mask3 = wages['NAICS Title'] == 'Total, All Industries'\n",
    "nycwages = wages[mask1 & mask2 & mask3]\n",
    "nycwages = nycwages.sort_values(by = ['Year'], ascending=True)\n",
    "nycwages"
   ]
  },
  {
   "cell_type": "code",
   "execution_count": null,
   "metadata": {},
   "outputs": [],
   "source": [
    "maskscatter1 = x['Year'] >= 2000\n",
    "maskscatter2 = nycwages['Year'] <= 2017\n",
    "\n",
    "xx = nycwages[maskscatter2]['Annual Average Salary                                                                                                                                                  '].tolist()\n",
    "yy = x[maskscatter1]['Larceny'].tolist()\n"
   ]
  },
  {
   "cell_type": "code",
   "execution_count": null,
   "metadata": {},
   "outputs": [],
   "source": [
    "fig= plt.figure(figsize=(10,5))\n",
    "plt.scatter(xx, yy)\n",
    "\n",
    "plt.rcParams['font.family'] = 'Times New Roman'\n",
    "plt.title('Average Salary vs Level of Larceny in NYC Between 2000 and 2017')\n",
    "plt.xlabel('Average Salary')\n",
    "plt.ylabel(\"Cases of Larceny\")\n",
    "\n",
    "plt.show()\n",
    "print(\"The Correlation Between Cases of Larceny and Average Salary in NYC Between 2000 and 2017 is\", np.corrcoef(xx,yy)[0,1])"
   ]
  },
  {
   "cell_type": "code",
   "execution_count": null,
   "metadata": {},
   "outputs": [],
   "source": [
    "x3 = numofficers['Grand Total'].iloc[0:11].tolist()\n",
    "y3 = crimesa[\"Drug Related Crimes\"].iloc[17:].tolist()"
   ]
  },
  {
   "cell_type": "code",
   "execution_count": null,
   "metadata": {},
   "outputs": [],
   "source": [
    "fig= plt.figure(figsize=(10,5))\n",
    "plt.scatter(x3, y3)\n",
    "\n",
    "plt.rcParams['font.family'] = 'Times New Roman'\n",
    "plt.title('Active Police Force vs Drug Arrests in NYC from 2007 - 2017')\n",
    "plt.xlabel('Number of Active Officers')\n",
    "plt.ylabel(\"Drug Related Arrests\")\n",
    "\n",
    "plt.show()\n",
    "print(\"The Correlation Between The Number of Active Officers and Drug Related Arrests in NYC Between 2000 and 2017 is\", np.corrcoef(x3,y3)[0,1])"
   ]
  },
  {
   "cell_type": "code",
   "execution_count": null,
   "metadata": {},
   "outputs": [],
   "source": []
  }
 ],
 "metadata": {
  "kernelspec": {
   "display_name": "Python 3",
   "language": "python",
   "name": "python3"
  },
  "language_info": {
   "codemirror_mode": {
    "name": "ipython",
    "version": 3
   },
   "file_extension": ".py",
   "mimetype": "text/x-python",
   "name": "python",
   "nbconvert_exporter": "python",
   "pygments_lexer": "ipython3",
   "version": "3.7.3"
  }
 },
 "nbformat": 4,
 "nbformat_minor": 2
}
